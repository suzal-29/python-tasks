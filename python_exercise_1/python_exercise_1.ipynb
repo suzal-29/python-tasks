{
  "nbformat": 4,
  "nbformat_minor": 0,
  "metadata": {
    "colab": {
      "provenance": []
    },
    "kernelspec": {
      "name": "python3",
      "display_name": "Python 3"
    },
    "language_info": {
      "name": "python"
    }
  },
  "cells": [
    {
      "cell_type": "code",
      "execution_count": null,
      "metadata": {
        "id": "9tR1JqfUr-cL"
      },
      "outputs": [],
      "source": []
    },
    {
      "cell_type": "markdown",
      "source": [
        "## 1] Write a Python function that takes a list of words and returns a new list with all words that start with a vowel."
      ],
      "metadata": {
        "id": "Lv5nuqVhsETx"
      }
    },
    {
      "cell_type": "code",
      "source": [
        "def fun(lst):\n",
        "  res=[]\n",
        "  for i in lst:\n",
        "    if i[0] in \"aeiouAEIOU\":\n",
        "      res.append(i)\n",
        "  return res\n",
        ""
      ],
      "metadata": {
        "id": "vVv8WvAOsJ6U"
      },
      "execution_count": 9,
      "outputs": []
    },
    {
      "cell_type": "code",
      "source": [
        "lst=[]\n",
        "while True:\n",
        "  word=input(\"enter words which are in list and enter 'quit' to quit: \")\n",
        "  if word == \"quit\":\n",
        "    break\n",
        "  lst.append(word)\n",
        "print(fun(lst))"
      ],
      "metadata": {
        "colab": {
          "base_uri": "https://localhost:8080/"
        },
        "id": "Sz4svpUcvHxH",
        "outputId": "f542c6d5-a2cc-4f03-b0a9-ab544d39fbd3"
      },
      "execution_count": 10,
      "outputs": [
        {
          "output_type": "stream",
          "name": "stdout",
          "text": [
            "enter words which are in list and enter 'quit' to quit: abc\n",
            "enter words which are in list and enter 'quit' to quit: cvb\n",
            "enter words which are in list and enter 'quit' to quit: eret\n",
            "enter words which are in list and enter 'quit' to quit: iop\n",
            "enter words which are in list and enter 'quit' to quit: quit\n",
            "['abc', 'eret', 'iop']\n"
          ]
        }
      ]
    },
    {
      "cell_type": "markdown",
      "source": [
        "## 2] Create a Python program to calculate the factorial of a given number. Use both iterative and recursive approaches."
      ],
      "metadata": {
        "id": "D9KDyUKDtWUS"
      }
    },
    {
      "cell_type": "code",
      "source": [
        "def fact_iterative(num):\n",
        "  for i in range(1,num):\n",
        "    num = num * i\n",
        "  return num\n",
        "def fact_recursive(num):\n",
        "  if num <= 1:\n",
        "    return 1\n",
        "  return num * fact_recursive(num - 1)"
      ],
      "metadata": {
        "id": "f1UCkAb7swHH"
      },
      "execution_count": 4,
      "outputs": []
    },
    {
      "cell_type": "code",
      "source": [
        "print(fact_iterative(7))\n",
        "print(fact_recursive(7))"
      ],
      "metadata": {
        "colab": {
          "base_uri": "https://localhost:8080/"
        },
        "id": "Ad5_66vUt2Wo",
        "outputId": "f05cea9d-b6a4-4e09-bc34-3d9a9b07236a"
      },
      "execution_count": 6,
      "outputs": [
        {
          "output_type": "stream",
          "name": "stdout",
          "text": [
            "5040\n",
            "5040\n"
          ]
        }
      ]
    },
    {
      "cell_type": "markdown",
      "source": [
        "## 3] Write a Python program to create a dictionary of student names and grades, and count the number of students with grades above 90."
      ],
      "metadata": {
        "id": "JbIad3DtuCjv"
      }
    },
    {
      "cell_type": "code",
      "source": [
        "def count_A1_grades(students,grades):\n",
        "  merit={}\n",
        "  count=0\n",
        "  for i in range(len(students)):\n",
        "    merit[students[i]]=grades[i]\n",
        "    if grades[i]>90:\n",
        "      count+=1\n",
        "  print(merit)\n",
        "  return count"
      ],
      "metadata": {
        "id": "z2SudLs-t7aj"
      },
      "execution_count": 13,
      "outputs": []
    },
    {
      "cell_type": "code",
      "source": [
        "students=[student for student in input().split()]\n",
        "grades=[int(grade) for grade in input().split()]\n",
        "print(\"no. of stuednts with A1 grade: \",count_A1_grades(students,grades))"
      ],
      "metadata": {
        "colab": {
          "base_uri": "https://localhost:8080/"
        },
        "id": "ACLYf5oMxzzF",
        "outputId": "2de1fbeb-8a87-4e25-a968-2196a4f77129"
      },
      "execution_count": 18,
      "outputs": [
        {
          "output_type": "stream",
          "name": "stdout",
          "text": [
            "suzal rushi raj\n",
            "90 89 92\n",
            "no. of stuednts with A1 grade:  1\n"
          ]
        }
      ]
    },
    {
      "cell_type": "markdown",
      "source": [
        "## 4] Write a Python function to determine whether a given string is a palindrome\n"
      ],
      "metadata": {
        "id": "BbnpWR4hzaAz"
      }
    },
    {
      "cell_type": "code",
      "source": [
        "def is_palindrome(s):\n",
        "  for i in range(len(s)//2):\n",
        "    if s[i] != s[len(s)-1-i]:\n",
        "      return False\n",
        "  return True"
      ],
      "metadata": {
        "id": "xgk5_uZSy3ro"
      },
      "execution_count": 19,
      "outputs": []
    },
    {
      "cell_type": "code",
      "source": [
        "st=input(\"enter a string to check: \")\n",
        "if is_palindrome(st):\n",
        "  print(f\"{st} is palindrome\")\n",
        "else:\n",
        "  print(f\"{st} is not palindrome\")"
      ],
      "metadata": {
        "colab": {
          "base_uri": "https://localhost:8080/"
        },
        "id": "7IUanqtjzmKZ",
        "outputId": "0c427cc7-865c-4166-fcd8-656d73b7ed2a"
      },
      "execution_count": 21,
      "outputs": [
        {
          "output_type": "stream",
          "name": "stdout",
          "text": [
            "enter a string to check: ebe\n",
            "ebe is palindrome\n"
          ]
        }
      ]
    },
    {
      "cell_type": "markdown",
      "source": [
        "## 5] Write a Python program that takes a text input and counts the frequency of each word. Display the result in a dictionary format"
      ],
      "metadata": {
        "id": "Fl_IXTrZ0T3s"
      }
    },
    {
      "cell_type": "code",
      "source": [
        "text=input(\"enter the text: \")\n",
        "res={}\n",
        "words=text.split()\n",
        "for i in words:\n",
        "  res[i]=text.count(i)\n",
        "print(res)"
      ],
      "metadata": {
        "colab": {
          "base_uri": "https://localhost:8080/"
        },
        "id": "Tominq7c0GbT",
        "outputId": "f6b23394-50e2-4f8c-d0bf-6a7a92f49437"
      },
      "execution_count": 37,
      "outputs": [
        {
          "output_type": "stream",
          "name": "stdout",
          "text": [
            "enter the text: my name my name is is raj\n",
            "{'my': 2, 'name': 2, 'is': 2, 'raj': 1}\n"
          ]
        }
      ]
    },
    {
      "cell_type": "markdown",
      "source": [
        "## 6] Write a Python function that takes a sequence of numbers and determines whether all the numbers are different from each other."
      ],
      "metadata": {
        "id": "4RQpZN171nQH"
      }
    },
    {
      "cell_type": "code",
      "source": [
        "def is_different(nums):\n",
        "  if len(nums) == len(set(nums)):\n",
        "    return True\n",
        "  return False"
      ],
      "metadata": {
        "id": "VbVx7zM41MMf"
      },
      "execution_count": 26,
      "outputs": []
    },
    {
      "cell_type": "code",
      "source": [
        "nums=[i for i in input().split()]\n",
        "print(is_different(nums))"
      ],
      "metadata": {
        "colab": {
          "base_uri": "https://localhost:8080/"
        },
        "id": "q4RqWqW42IjG",
        "outputId": "da9538ba-a99e-4756-d13c-f6fc7b2b2f10"
      },
      "execution_count": 28,
      "outputs": [
        {
          "output_type": "stream",
          "name": "stdout",
          "text": [
            "1 2 3 4 5\n",
            "True\n"
          ]
        }
      ]
    },
    {
      "cell_type": "markdown",
      "source": [
        "## 7] Write a Python program to extract the year, month, date and time using Lambda. Input: 2020-01-15 09:03:32.744178"
      ],
      "metadata": {
        "id": "tZoryexI2be2"
      }
    },
    {
      "cell_type": "code",
      "source": [
        "year = lambda x : x[0:4]\n",
        "month = lambda x : x[5:7]\n",
        "date = lambda x : x[8:10]\n",
        "time = lambda x : x[11:]"
      ],
      "metadata": {
        "id": "S67jrKTt2VHj"
      },
      "execution_count": 34,
      "outputs": []
    },
    {
      "cell_type": "code",
      "source": [
        "timestamp=input(\"enter the time stamp: \")\n",
        "print(\"year: \",year(timestamp))\n",
        "print(\"month: \",month(timestamp))\n",
        "print(\"date: \",date(timestamp))\n",
        "print(\"time: \",time(timestamp))"
      ],
      "metadata": {
        "colab": {
          "base_uri": "https://localhost:8080/"
        },
        "id": "iz-1sYNc3e9R",
        "outputId": "d7b10487-4cba-4ac6-8363-9c40c1c23724"
      },
      "execution_count": 35,
      "outputs": [
        {
          "output_type": "stream",
          "name": "stdout",
          "text": [
            "enter the time stamp: 2020-01-15 09:03:32.744178\n",
            "year:  2020\n",
            "month:  01\n",
            "date:  15\n",
            "time:  09:03:32.744178\n"
          ]
        }
      ]
    },
    {
      "cell_type": "code",
      "source": [],
      "metadata": {
        "id": "LnaFP8X534ST"
      },
      "execution_count": null,
      "outputs": []
    }
  ]
}