{
  "nbformat": 4,
  "nbformat_minor": 0,
  "metadata": {
    "colab": {
      "provenance": []
    },
    "kernelspec": {
      "name": "python3",
      "display_name": "Python 3"
    },
    "language_info": {
      "name": "python"
    }
  },
  "cells": [
    {
      "cell_type": "markdown",
      "source": [
        "## 1] Write a Python function that takes a list of words and returns a new list with all words that start with a vowel."
      ],
      "metadata": {
        "id": "Lv5nuqVhsETx"
      }
    },
    {
      "cell_type": "code",
      "source": [
        "import re\n",
        "\n",
        "def is_first_word_vowel(lst):\n",
        "    \"\"\"\n",
        "    Filters words from the given list that start with a vowel (A, E, I, O, U).\n",
        "\n",
        "    Parameters:\n",
        "    lst (list of str): A list of words.\n",
        "\n",
        "    Returns:\n",
        "    list of str: A list containing only words that start with a vowel.\n",
        "    \"\"\"\n",
        "    res = []\n",
        "    for word in lst:\n",
        "        # Check if the first character of the word is a vowel (case-insensitive)\n",
        "        if word[0] in \"aeiouAEIOU\":\n",
        "            res.append(word)\n",
        "    return res\n"
      ],
      "metadata": {
        "id": "vVv8WvAOsJ6U"
      },
      "execution_count": 50,
      "outputs": []
    },
    {
      "cell_type": "code",
      "source": [
        "# Take user input and extract words using regex\n",
        "words = input(\"Enter the words in the list: \")\n",
        "words = re.findall(r\"\\b\\w+'?\\w*|\\w+\", words)  # Extract words, keeping contractions like \"it's\"\n",
        "\n",
        "# Call the function and print the filtered list\n",
        "print(is_first_word_vowel(words))"
      ],
      "metadata": {
        "colab": {
          "base_uri": "https://localhost:8080/"
        },
        "id": "Sz4svpUcvHxH",
        "outputId": "169b69f6-e64d-4292-83c2-aacaa7be9cd5"
      },
      "execution_count": 52,
      "outputs": [
        {
          "output_type": "stream",
          "name": "stdout",
          "text": [
            "enter the words in the list: apple\\'s banana! \"orange\"; umbrella: cat.' \"elephant... banana's are you eating apple's?I'll go th2wdxeere,isn't it?\n",
            "['apple', 'orange', 'umbrella', 'elephant', 'are', 'eating', \"apple's\", \"I'll\", \"isn't\", 'it']\n"
          ]
        }
      ]
    },
    {
      "cell_type": "markdown",
      "source": [
        "## 2] Create a Python program to calculate the factorial of a given number. Use both iterative and recursive approaches."
      ],
      "metadata": {
        "id": "D9KDyUKDtWUS"
      }
    },
    {
      "cell_type": "code",
      "source": [
        "\"\"\"\n",
        "This module provides functions to compute the factorial of a number using both iterative\n",
        "and recursive approaches.\n",
        "\n",
        "Functions:\n",
        "- fact_iterative(num): Computes factorial iteratively.\n",
        "- fact_recursive(num): Computes factorial recursively.\n",
        "\"\"\"\n",
        "import math\n",
        "\n",
        "def factorial_any_number(num):\n",
        "    \"\"\"\n",
        "    Computes the factorial of any number, including non-integer values, using the Gamma function.\n",
        "\n",
        "    The Gamma function generalizes the factorial function for real and complex numbers.\n",
        "    For positive integers, Gamma(n) = (n-1)!.\n",
        "\n",
        "    Parameters:\n",
        "    num (float or int): The number for which the factorial is to be computed.\n",
        "\n",
        "    Returns:\n",
        "    float: The factorial of the given number.\n",
        "    \"\"\"\n",
        "    return math.gamma(num + 1)  # Gamma(n+1) is equivalent to n!\n",
        "\n",
        "\n",
        "def fact_iterative(num):\n",
        "    \"\"\"\n",
        "    Calculate the factorial of a given number iteratively.\n",
        "\n",
        "    Parameters:\n",
        "    num (int): The number for which factorial is to be computed.\n",
        "\n",
        "    Returns:\n",
        "    int: The factorial of the given number.\n",
        "    \"\"\"\n",
        "    # Loop through numbers from 2 to num-1 and multiply to get factorial\n",
        "    for i in range(2, num):\n",
        "        num = num * i\n",
        "    return num\n",
        "\n",
        "def fact_recursive(num):\n",
        "    \"\"\"\n",
        "    Calculate the factorial of a given number recursively.\n",
        "\n",
        "    Parameters:\n",
        "    num (int): The number for which factorial is to be computed.\n",
        "\n",
        "    Returns:\n",
        "    int: The factorial of the given number.\n",
        "    \"\"\"\n",
        "    # Base case: factorial of 0 or 1 is 1\n",
        "    if num <= 1:\n",
        "        return 1\n",
        "    # Recursive case: num * factorial of (num-1)\n",
        "    return num * fact_recursive(num - 1)"
      ],
      "metadata": {
        "id": "f1UCkAb7swHH"
      },
      "execution_count": 90,
      "outputs": []
    },
    {
      "cell_type": "code",
      "source": [
        "# Take user input for the number\n",
        "number = input(\"Enter the positive number of which you want to calculate factorial: \")\n",
        "while \"-\" in number:\n",
        "  number = input(\"Enter the positive number of which you want to calculate factorial: \")\n",
        "\n",
        "if \".\" in number:\n",
        "  number=float(number)\n",
        "  print(\"Factorial (decimal):\",factorial_any_number(number))\n",
        "else:\n",
        "  number=int(number)\n",
        "  # Print factorial using iterative and recursive methods\n",
        "  print(\"Factorial (Iterative):\", fact_iterative(number))\n",
        "  print(\"Factorial (Recursive):\", fact_recursive(number))\n"
      ],
      "metadata": {
        "colab": {
          "base_uri": "https://localhost:8080/"
        },
        "id": "Ad5_66vUt2Wo",
        "outputId": "3183c675-eba3-4a94-d459-cd1ba9640490"
      },
      "execution_count": 95,
      "outputs": [
        {
          "output_type": "stream",
          "name": "stdout",
          "text": [
            "Enter the positive number of which you want to calculate factorial: 5.5\n",
            "Factorial (decimal): 287.8852778150444\n"
          ]
        }
      ]
    },
    {
      "cell_type": "markdown",
      "source": [
        "## 3] Write a Python program to create a dictionary of student names and grades, and count the number of students with grades above 90."
      ],
      "metadata": {
        "id": "JbIad3DtuCjv"
      }
    },
    {
      "cell_type": "code",
      "source": [
        "\"\"\"\n",
        "This module provides functionality to count students who achieved an A1 grade (greater than 90) and store student-grade mappings.\n",
        "\n",
        "Functions:\n",
        "- count_A1_grades(students, grades): Counts the number of students with A1 grades and stores student-grade data.\n",
        "\"\"\"\n",
        "def count_A1_grades(students, grades):\n",
        "    \"\"\"\n",
        "    Count the number of students who achieved an A1 grade (greater than 90) and store student-grade mapping.\n",
        "\n",
        "    Parameters:\n",
        "    students (list): List of student names.\n",
        "    grades (list): List of student grades corresponding to the students list.\n",
        "\n",
        "    Returns:\n",
        "    int: The count of students who have an A1 grade (greater than 90).\n",
        "    \"\"\"\n",
        "    merit = {}  # Dictionary to store student names and their corresponding grades\n",
        "    count = 0   # Counter for students with A1 grades\n",
        "\n",
        "    # Iterate over the students list and assign grades to the merit dictionary\n",
        "    for i in range(len(students)):\n",
        "        merit[students[i]] = grades[i]\n",
        "\n",
        "        # Check if the grade is greater than 90 (A1 grade)\n",
        "        if grades[i] > 90:\n",
        "            count += 1\n",
        "\n",
        "    print(merit)  # Print the dictionary containing student-grade mapping\n",
        "    return count"
      ],
      "metadata": {
        "id": "z2SudLs-t7aj"
      },
      "execution_count": 96,
      "outputs": []
    },
    {
      "cell_type": "code",
      "source": [
        "\n",
        "# Take user input for the number of students\n",
        "num_students = int(input(\"Enter the number of students: \"))\n",
        "\n",
        "students = []  # List to store student names\n",
        "grades = []    # List to store student grades\n",
        "\n",
        "# Validate number of students input\n",
        "while num_students <= 0:\n",
        "    print(\"Number of students cannot be negative or zero\")\n",
        "    num_students = int(input(\"Enter the number of students: \"))\n",
        "\n",
        "# Input student names and grades\n",
        "while num_students:\n",
        "    student = input(\"Enter the name of a student: \")\n",
        "    students.append(student)\n",
        "\n",
        "    grade = int(input(\"Enter the grade (between 0-100) of a student: \"))\n",
        "\n",
        "    # Validate grade input\n",
        "    while grade < 0 or grade > 100:\n",
        "        print(\"Grade should be between 0-100\")\n",
        "        grade = int(input(\"Enter the grade (between 0-100) of a student: \"))\n",
        "\n",
        "    grades.append(grade)\n",
        "    num_students -= 1\n",
        "\n",
        "# Display the number of students with A1 grade\n",
        "print(\"No. of students with A1 grade:\", count_A1_grades(students, grades))\n"
      ],
      "metadata": {
        "colab": {
          "base_uri": "https://localhost:8080/"
        },
        "id": "ACLYf5oMxzzF",
        "outputId": "96a23e79-9e63-429f-df8b-01f0445625a2"
      },
      "execution_count": 97,
      "outputs": [
        {
          "output_type": "stream",
          "name": "stdout",
          "text": [
            "Enter the number of students: 2\n",
            "Enter the name of a student: suzal\n",
            "Enter the grade (between 0-100) of a student: 20\n",
            "Enter the name of a student: raj\n",
            "Enter the grade (between 0-100) of a student: 98\n",
            "{'suzal': 20, 'raj': 98}\n",
            "No. of students with A1 grade: 1\n"
          ]
        }
      ]
    },
    {
      "cell_type": "markdown",
      "source": [
        "## 4] Write a Python function to determine whether a given string is a palindrome\n"
      ],
      "metadata": {
        "id": "BbnpWR4hzaAz"
      }
    },
    {
      "cell_type": "code",
      "source": [
        "\"\"\"\n",
        "This module provides a function to check whether a given string is a palindrome.\n",
        "\n",
        "Functions:\n",
        "- is_palindrome(s): Determines whether a string is a palindrome, ignoring punctuation and spaces.\n",
        "\"\"\"\n",
        "\n",
        "import string\n",
        "\n",
        "def is_palindrome(s):\n",
        "    \"\"\"\n",
        "    Check if a given string is a palindrome, ignoring punctuation and spaces.\n",
        "\n",
        "    Parameters:\n",
        "    s (str): The input string to check.\n",
        "\n",
        "    Returns:\n",
        "    bool: True if the string is a palindrome, False otherwise.\n",
        "    \"\"\"\n",
        "    # Create a translation table to remove punctuation\n",
        "    translator = str.maketrans('', '', string.punctuation)\n",
        "\n",
        "    # Remove punctuation and spaces from the string\n",
        "    s = s.translate(translator).replace(\" \", \"\").lower()\n",
        "\n",
        "    # Check if the cleaned string reads the same forward and backward\n",
        "    for i in range(len(s) // 2):\n",
        "        if s[i] != s[len(s) - 1 - i]:\n",
        "            return False\n",
        "    return True\n"
      ],
      "metadata": {
        "id": "xgk5_uZSy3ro"
      },
      "execution_count": 98,
      "outputs": []
    },
    {
      "cell_type": "code",
      "source": [
        "# Take user input for the string\n",
        "st = input(\"Enter a string to check wether it is palindrome or not: \")\n",
        "\n",
        "# Check and print whether the string is a palindrome\n",
        "if is_palindrome(st):\n",
        "    print(f\"'{st}' is a palindrome\")\n",
        "else:\n",
        "    print(f\"'{st}' is not a palindrome\")"
      ],
      "metadata": {
        "colab": {
          "base_uri": "https://localhost:8080/"
        },
        "id": "7IUanqtjzmKZ",
        "outputId": "eda355c4-7c73-4db7-9e42-4c7ae05ce7b2"
      },
      "execution_count": 99,
      "outputs": [
        {
          "output_type": "stream",
          "name": "stdout",
          "text": [
            "Enter a string to check: Too hot to hoot.\n",
            "'Too hot to hoot.' is a palindrome\n"
          ]
        }
      ]
    },
    {
      "cell_type": "code",
      "source": [],
      "metadata": {
        "id": "QyZzDyaTf_6q"
      },
      "execution_count": null,
      "outputs": []
    },
    {
      "cell_type": "markdown",
      "source": [
        "## 5] Write a Python program that takes a text input and counts the frequency of each word. Display the result in a dictionary format"
      ],
      "metadata": {
        "id": "Fl_IXTrZ0T3s"
      }
    },
    {
      "cell_type": "code",
      "source": [
        "\"\"\"\n",
        "This module provides functionality to count the frequency of words in a given text.\n",
        "\n",
        "Functions:\n",
        "- count_word_frequencies(text): Parses a given text and returns a dictionary with word counts.\n",
        "\"\"\"\n",
        "\n",
        "import re\n",
        "\n",
        "def count_word_frequencies(text):\n",
        "    \"\"\"\n",
        "    Count the frequency of words in the given text.\n",
        "\n",
        "    Parameters:\n",
        "    text (str): The input text to analyze.\n",
        "\n",
        "    Returns:\n",
        "    dict: A dictionary where keys are words and values are their corresponding frequencies.\n",
        "    \"\"\"\n",
        "    res = {}  # Dictionary to store word frequencies\n",
        "\n",
        "    # Extract words from the text while considering apostrophes in contractions\n",
        "    words = re.findall(r\"\\b\\w+(?:'\\w+)?\\b\", text, re.UNICODE)\n",
        "\n",
        "    # Count the occurrences of each word\n",
        "    for word in words:\n",
        "        res[word] = res.get(word, 0) + 1\n",
        "\n",
        "    return res"
      ],
      "metadata": {
        "id": "Tominq7c0GbT"
      },
      "execution_count": 100,
      "outputs": []
    },
    {
      "cell_type": "code",
      "source": [
        "# Take user input for the text\n",
        "text = input(\"Enter the text: \")\n",
        "\n",
        "# Count word frequencies and print the result\n",
        "print(count_word_frequencies(text))"
      ],
      "metadata": {
        "colab": {
          "base_uri": "https://localhost:8080/"
        },
        "id": "eetSGRDnODw9",
        "outputId": "cbcffcfe-f66a-41d7-b8d6-7cd5cf8bc39b"
      },
      "execution_count": 101,
      "outputs": [
        {
          "output_type": "stream",
          "name": "stdout",
          "text": [
            "Enter the text: what is your name?what's your age?\n",
            "{'what': 1, 'is': 1, 'your': 2, 'name': 1, \"what's\": 1, 'age': 1}\n"
          ]
        }
      ]
    },
    {
      "cell_type": "markdown",
      "source": [
        "## 6] Write a Python function that takes a sequence of numbers and determines whether all the numbers are different from each other."
      ],
      "metadata": {
        "id": "4RQpZN171nQH"
      }
    },
    {
      "cell_type": "code",
      "source": [
        "\"\"\"\n",
        "Functions:\n",
        "- is_different(nums): Determines if a list contains only unique elements.\n",
        "\"\"\"\n",
        "\n",
        "def is_different(nums):\n",
        "    \"\"\"\n",
        "    Check if all elements in the given list are unique.\n",
        "\n",
        "    Parameters:\n",
        "    nums (list): The list of numbers to check.\n",
        "\n",
        "    Returns:\n",
        "    bool: True if all elements are unique, False otherwise.\n",
        "    \"\"\"\n",
        "    # Convert the list to a set and compare lengths\n",
        "    if len(nums) == len(set(nums)):\n",
        "        return True\n",
        "    return False"
      ],
      "metadata": {
        "id": "VbVx7zM41MMf"
      },
      "execution_count": 102,
      "outputs": []
    },
    {
      "cell_type": "code",
      "source": [
        "\n",
        "# Take user input and split it into a list\n",
        "nums = [i for i in input(\"Enter numbers separated by spaces: \").split()]\n",
        "\n",
        "# Check if all elements are unique and print the result\n",
        "print(is_different(nums))\n"
      ],
      "metadata": {
        "colab": {
          "base_uri": "https://localhost:8080/"
        },
        "id": "q4RqWqW42IjG",
        "outputId": "81cc9163-17f1-42e5-c5ba-23128b8f872e"
      },
      "execution_count": 103,
      "outputs": [
        {
          "output_type": "stream",
          "name": "stdout",
          "text": [
            "Enter numbers separated by spaces: 1 2 3 4 4 4 5 6 7\n",
            "False\n"
          ]
        }
      ]
    },
    {
      "cell_type": "markdown",
      "source": [
        "## 7] Write a Python program to extract the year, month, date and time using Lambda. Input: 2020-01-15 09:03:32.744178"
      ],
      "metadata": {
        "id": "tZoryexI2be2"
      }
    },
    {
      "cell_type": "code",
      "source": [
        "\"\"\"\n",
        "This module provides functionality to extract components from a timestamp.\n",
        "\n",
        "Functions:\n",
        "- year(timestamp): Extracts the year from the timestamp.\n",
        "- month(timestamp): Extracts the month from the timestamp.\n",
        "- date(timestamp): Extracts the date from the timestamp.\n",
        "- time(timestamp): Extracts the time from the timestamp.\n",
        "\"\"\"\n",
        "\n",
        "# Lambda functions to extract components from a timestamp\n",
        "year = lambda x: x[0:4]   # Extracts the year\n",
        "month = lambda x: x[5:7]  # Extracts the month\n",
        "date = lambda x: x[8:10]  # Extracts the date\n",
        "time = lambda x: x[11:]   # Extracts the time\n",
        "\n",
        "# Take user input for the timestamp\n",
        "timestamp = input(\"Enter the timestamp in the format 'YYYY-MM-DD HH:mm:SS.ssssss': \")\n",
        "\n",
        "# Extract and print individual components\n",
        "print(\"Year:\", year(timestamp))\n",
        "print(\"Month:\", month(timestamp))\n",
        "print(\"Date:\", date(timestamp))\n",
        "print(\"Time:\", time(timestamp))\n"
      ],
      "metadata": {
        "colab": {
          "base_uri": "https://localhost:8080/"
        },
        "id": "iz-1sYNc3e9R",
        "outputId": "991f8eb9-7974-41db-fe88-891a35660e34"
      },
      "execution_count": 104,
      "outputs": [
        {
          "output_type": "stream",
          "name": "stdout",
          "text": [
            "Enter the timestamp in the format 'YYYY-MM-DD HH:mm:SS.ssssss': 2020-01-15 09:03:32.744178\n",
            "Year: 2020\n",
            "Month: 01\n",
            "Date: 15\n",
            "Time: 09:03:32.744178\n"
          ]
        }
      ]
    },
    {
      "cell_type": "code",
      "source": [],
      "metadata": {
        "id": "u6Q7nGEEQOPM"
      },
      "execution_count": null,
      "outputs": []
    },
    {
      "cell_type": "code",
      "source": [
        "!pip install pylint"
      ],
      "metadata": {
        "colab": {
          "base_uri": "https://localhost:8080/"
        },
        "id": "FltbA5kBvyT1",
        "outputId": "b9ce7821-dc0c-446d-f121-7f6ef0a01693"
      },
      "execution_count": 61,
      "outputs": [
        {
          "output_type": "stream",
          "name": "stdout",
          "text": [
            "Collecting pylint\n",
            "  Downloading pylint-3.3.4-py3-none-any.whl.metadata (12 kB)\n",
            "Collecting dill>=0.3.6 (from pylint)\n",
            "  Downloading dill-0.3.9-py3-none-any.whl.metadata (10 kB)\n",
            "Requirement already satisfied: platformdirs>=2.2.0 in /usr/local/lib/python3.11/dist-packages (from pylint) (4.3.6)\n",
            "Collecting astroid<=3.4.0-dev0,>=3.3.8 (from pylint)\n",
            "  Downloading astroid-3.3.8-py3-none-any.whl.metadata (4.5 kB)\n",
            "Collecting isort!=5.13.0,<7,>=4.2.5 (from pylint)\n",
            "  Downloading isort-6.0.0-py3-none-any.whl.metadata (11 kB)\n",
            "Collecting mccabe<0.8,>=0.6 (from pylint)\n",
            "  Downloading mccabe-0.7.0-py2.py3-none-any.whl.metadata (5.0 kB)\n",
            "Collecting tomlkit>=0.10.1 (from pylint)\n",
            "  Downloading tomlkit-0.13.2-py3-none-any.whl.metadata (2.7 kB)\n",
            "Downloading pylint-3.3.4-py3-none-any.whl (522 kB)\n",
            "\u001b[2K   \u001b[90m━━━━━━━━━━━━━━━━━━━━━━━━━━━━━━━━━━━━━━━━\u001b[0m \u001b[32m522.3/522.3 kB\u001b[0m \u001b[31m10.1 MB/s\u001b[0m eta \u001b[36m0:00:00\u001b[0m\n",
            "\u001b[?25hDownloading astroid-3.3.8-py3-none-any.whl (275 kB)\n",
            "\u001b[2K   \u001b[90m━━━━━━━━━━━━━━━━━━━━━━━━━━━━━━━━━━━━━━━━\u001b[0m \u001b[32m275.2/275.2 kB\u001b[0m \u001b[31m20.1 MB/s\u001b[0m eta \u001b[36m0:00:00\u001b[0m\n",
            "\u001b[?25hDownloading dill-0.3.9-py3-none-any.whl (119 kB)\n",
            "\u001b[2K   \u001b[90m━━━━━━━━━━━━━━━━━━━━━━━━━━━━━━━━━━━━━━━━\u001b[0m \u001b[32m119.4/119.4 kB\u001b[0m \u001b[31m9.1 MB/s\u001b[0m eta \u001b[36m0:00:00\u001b[0m\n",
            "\u001b[?25hDownloading isort-6.0.0-py3-none-any.whl (94 kB)\n",
            "\u001b[2K   \u001b[90m━━━━━━━━━━━━━━━━━━━━━━━━━━━━━━━━━━━━━━━━\u001b[0m \u001b[32m94.1/94.1 kB\u001b[0m \u001b[31m8.0 MB/s\u001b[0m eta \u001b[36m0:00:00\u001b[0m\n",
            "\u001b[?25hDownloading mccabe-0.7.0-py2.py3-none-any.whl (7.3 kB)\n",
            "Downloading tomlkit-0.13.2-py3-none-any.whl (37 kB)\n",
            "Installing collected packages: tomlkit, mccabe, isort, dill, astroid, pylint\n",
            "Successfully installed astroid-3.3.8 dill-0.3.9 isort-6.0.0 mccabe-0.7.0 pylint-3.3.4 tomlkit-0.13.2\n"
          ]
        }
      ]
    },
    {
      "cell_type": "code",
      "source": [
        "!pylint vowel.py"
      ],
      "metadata": {
        "id": "LnaFP8X534ST",
        "colab": {
          "base_uri": "https://localhost:8080/"
        },
        "outputId": "7327f0b3-6724-4438-bbc3-74c11eb5542f"
      },
      "execution_count": 76,
      "outputs": [
        {
          "output_type": "stream",
          "name": "stdout",
          "text": [
            "************* Module vowel\n",
            "vowel.py:38:0: C0303: Trailing whitespace (trailing-whitespace)\n",
            "\n",
            "------------------------------------------------------------------\n",
            "Your code has been rated at 9.09/10 (previous run: 9.09/10, +0.00)\n",
            "\n"
          ]
        }
      ]
    },
    {
      "cell_type": "code",
      "source": [],
      "metadata": {
        "id": "YTYHmCqlvNrR"
      },
      "execution_count": 73,
      "outputs": []
    }
  ]
}